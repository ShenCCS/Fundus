{
 "cells": [
  {
   "cell_type": "code",
   "execution_count": 2,
   "metadata": {},
   "outputs": [],
   "source": [
    "import pandas as pd\n",
    "import csv\n",
    "import os"
   ]
  },
  {
   "cell_type": "code",
   "execution_count": 3,
   "metadata": {},
   "outputs": [],
   "source": [
    "# drop other columns\n",
    "# df = pd.read_csv('/home/john/network/Fundus/model/csv/SelectPatientOutcome_374.csv')\n",
    "df = pd.read_csv('/home/john/network/Fundus/model/csv/SelectPatientOutcome_352.csv')\n",
    "\n",
    "# columns_keep = ['病歷號','年齡','性別']\n",
    "columns_keep = ['病歷號','hyperlipidemia (0或1)','年齡','性別','HTN (0或1)','BMI','血壓-收縮壓 (mmHg)','血壓-輸張壓 (mmHg)','糖化血色素 (%)']\n",
    "\n",
    "df = df[columns_keep]\n",
    "df = df.rename(columns = \n",
    "                                    {'病歷號':'ID','hyperlipidemia (0或1)':'hyperlipidemia','年齡':'Age','性別':'Gender','HTN (0或1)':'HTN',\n",
    "                                    '血壓-收縮壓 (mmHg)':'SP','血壓-輸張壓 (mmHg)':'DP','糖化血色素 (%)':'HbA1c'})\n",
    "\n",
    "df.to_csv('/home/john/network/Fundus/model/csv/Patient_352.csv',index = False)"
   ]
  },
  {
   "cell_type": "markdown",
   "metadata": {},
   "source": [
    "# Color"
   ]
  },
  {
   "cell_type": "code",
   "execution_count": 5,
   "metadata": {},
   "outputs": [],
   "source": [
    "# create a new csv file\n",
    "# csv_file = '/home/john/network/Fundus/model/csv/labels4_(374).csv' ##This\n",
    "csv_file = '/home/john/network/Fundus/model/csv/labels4_(352).csv' ##This\n",
    "header = ['ID','hyperlipidemia']\n",
    "\n",
    "with open(csv_file,'w',newline='') as file:\n",
    "    writer = csv.writer(file)\n",
    "    writer.writerow(header)\n",
    "\n",
    "# Loading Fundus Images\n",
    "# ImageFilePath = '/home/john/network/Fundus/model/Color/dataset(select)/'\n",
    "ImageFilePath = '/home/john/network/Fundus/model/Color/dataset(CLAHE)/'\n",
    "ImageFileNames = [filename for filename in os.listdir(ImageFilePath)]\n",
    "\n",
    "# csv_file_outcome = '/home/john/network/Fundus/model/csv/Patient_374.csv'\n",
    "csv_file_outcome = '/home/john/network/Fundus/model/csv/Patient_352.csv'\n",
    "df = pd.read_csv(csv_file_outcome)\n",
    "\n",
    "# image_folder = '/home/john/network/Fundus/model/Color/dataset(select)/'\n",
    "image_folder = '/home/john/network/Fundus/model/Color/dataset(CLAHE)/'\n",
    "\n",
    "image_filenames = [filename for filename in os.listdir(image_folder)]\n",
    "df['ID'] = image_filenames\n",
    "\n",
    "df.to_csv(csv_file,index=False)\n"
   ]
  },
  {
   "cell_type": "markdown",
   "metadata": {},
   "source": [
    "# Blood"
   ]
  },
  {
   "cell_type": "code",
   "execution_count": 6,
   "metadata": {},
   "outputs": [],
   "source": [
    "# create a new csv file\n",
    "csv_file = 'labels4Blood.csv' ##This\n",
    "header = ['ID','Gender']\n",
    "\n",
    "with open(csv_file,'w',newline='') as file:\n",
    "    writer = csv.writer(file)\n",
    "    writer.writerow(header)\n",
    "\n",
    "# Loading Fundus Images\n",
    "ImageFilePath = '../model/785_Blood/'\n",
    "# ImageFilePath = '../model/Blood/'\n",
    "ImageFileNames = [filename for filename in os.listdir(ImageFilePath)]\n",
    "\n",
    "csv_file_outcome = 'SelectPatientOutcome(Blood).csv'\n",
    "df = pd.read_csv(csv_file_outcome)\n",
    "\n",
    "image_folder = '../model/785_Blood/'\n",
    "\n",
    "image_filenames = [filename for filename in os.listdir(image_folder)]\n",
    "df['ID'] = image_filenames\n",
    "\n",
    "df.to_csv(csv_file,index=False)\n"
   ]
  },
  {
   "cell_type": "code",
   "execution_count": 5,
   "metadata": {},
   "outputs": [],
   "source": [
    "# drop other columns\n",
    "df = pd.read_csv('SelectPatientOutcome(Blood).csv')\n",
    "\n",
    "columns_keep = ['病歷號','年齡','性別']\n",
    "\n",
    "df = df[columns_keep]\n",
    "df = df.rename(columns = {'病歷號':'ID','年齡':'Age','性別':'Gender'})\n",
    "\n",
    "df.to_csv('SelectPatientOutcome(Blood).csv',index = False)"
   ]
  }
 ],
 "metadata": {
  "kernelspec": {
   "display_name": "Python 3.9.0 ('gpu')",
   "language": "python",
   "name": "python3"
  },
  "language_info": {
   "codemirror_mode": {
    "name": "ipython",
    "version": 3
   },
   "file_extension": ".py",
   "mimetype": "text/x-python",
   "name": "python",
   "nbconvert_exporter": "python",
   "pygments_lexer": "ipython3",
   "version": "3.9.0"
  },
  "orig_nbformat": 4,
  "vscode": {
   "interpreter": {
    "hash": "c552620d222fa9d606f1f33f8563cdc33bfd942962e64ac4e17319b8faf72790"
   }
  }
 },
 "nbformat": 4,
 "nbformat_minor": 2
}
