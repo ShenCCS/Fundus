{
 "cells": [
  {
   "cell_type": "markdown",
   "metadata": {},
   "source": [
    "# Compare 2 images differences and draw"
   ]
  },
  {
   "cell_type": "code",
   "execution_count": 1,
   "metadata": {},
   "outputs": [],
   "source": [
    "import cv2"
   ]
  },
  {
   "cell_type": "code",
   "execution_count": 2,
   "metadata": {},
   "outputs": [],
   "source": [
    "image1 = cv2.imread('cropped_image17.jpg')\n",
    "image2 = cv2.imread('cropped_image04.jpg')\n",
    "\n",
    "gray_image1 = cv2.cvtColor(image1, cv2.COLOR_BGR2GRAY)\n",
    "gray_image2 = cv2.cvtColor(image2, cv2.COLOR_BGR2GRAY)\n",
    "\n",
    "\n",
    "difference = cv2.absdiff(gray_image1, gray_image2)\n",
    "\n",
    "\n",
    "_, thresholded_diff = cv2.threshold(difference, 20, 100, cv2.THRESH_BINARY)\n",
    "\n",
    "\n",
    "contours, _ = cv2.findContours(thresholded_diff, cv2.RETR_EXTERNAL, cv2.CHAIN_APPROX_SIMPLE)\n",
    "\n",
    "for contour in contours:\n",
    "    x, y, w, h = cv2.boundingRect(contour)\n",
    "    cv2.rectangle(image1, (x, y), (x + w, y + h), (0, 0, 255), 2)\n",
    "\n",
    "# Change\n",
    "new_width = 1575\n",
    "new_height = 1570\n",
    "resized_image = cv2.resize(image1, (new_width, new_height))\n",
    "\n",
    "cv2.imshow('Marked Differences', resized_image)\n",
    "cv2.imwrite('resized_image200.jpg', resized_image)\n",
    "cv2.waitKey(0)\n",
    "cv2.destroyAllWindows()"
   ]
  },
  {
   "cell_type": "code",
   "execution_count": null,
   "metadata": {},
   "outputs": [],
   "source": []
  }
 ],
 "metadata": {
  "kernelspec": {
   "display_name": "Python 3.7.12 ('GAN')",
   "language": "python",
   "name": "python3"
  },
  "language_info": {
   "codemirror_mode": {
    "name": "ipython",
    "version": 3
   },
   "file_extension": ".py",
   "mimetype": "text/x-python",
   "name": "python",
   "nbconvert_exporter": "python",
   "pygments_lexer": "ipython3",
   "version": "3.7.12"
  },
  "orig_nbformat": 4,
  "vscode": {
   "interpreter": {
    "hash": "68b63e5a6e21a3ec322dfbbdb8e309c644513e68d67e5f42fa54fdf3b129e981"
   }
  }
 },
 "nbformat": 4,
 "nbformat_minor": 2
}
