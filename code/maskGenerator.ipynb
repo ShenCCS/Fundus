{
 "cells": [
  {
   "cell_type": "markdown",
   "metadata": {},
   "source": [
    "# Mask Generator"
   ]
  },
  {
   "cell_type": "code",
   "execution_count": 1,
   "metadata": {},
   "outputs": [],
   "source": [
    "from __future__ import print_function\n",
    "from multiprocessing.pool import ThreadPool\n",
    "\n",
    "import cv2\n",
    "import numpy as np\n",
    "import matplotlib.pyplot as plt\n",
    "import pylab as pl\n",
    "import os"
   ]
  },
  {
   "cell_type": "code",
   "execution_count": 5,
   "metadata": {},
   "outputs": [],
   "source": [
    "source_folder = '/home/john/network/Fundus/project/dataset/Used/CLAHE/'\n",
    "outputFile = '/home/john/network/Fundus/project/dataset/mask/'"
   ]
  },
  {
   "cell_type": "code",
   "execution_count": 11,
   "metadata": {},
   "outputs": [
    {
     "name": "stdout",
     "output_type": "stream",
     "text": [
      "Done\n"
     ]
    }
   ],
   "source": [
    "dir_list = os.listdir(source_folder)\n",
    "\n",
    "for i in dir_list:\n",
    "\n",
    "    srcImg = cv2.imread(source_folder +'/' +  i,cv2.IMREAD_ANYCOLOR | cv2.IMREAD_ANYDEPTH)\n",
    "    grountruth = cv2.imread(source_folder +'/' +  i,cv2.IMREAD_GRAYSCALE)\n",
    "    grayImg = cv2.split(srcImg)[1]\n",
    "\n",
    "    # 提取眼膜\n",
    "    ret0,th0 = cv2.threshold(grayImg,5,255,cv2.THRESH_BINARY)\n",
    "    mask = cv2.erode(th0,np.ones((7,7),np.uint8))\n",
    "\n",
    "    output_path = os.path.join(outputFile,\"Mask_{}\".format(i))\n",
    "    cv2.imwrite(output_path,mask)\n",
    "\n",
    "print(\"Done\")"
   ]
  },
  {
   "cell_type": "code",
   "execution_count": null,
   "metadata": {},
   "outputs": [],
   "source": []
  }
 ],
 "metadata": {
  "kernelspec": {
   "display_name": "Python 3.7.12 ('GAN')",
   "language": "python",
   "name": "python3"
  },
  "language_info": {
   "codemirror_mode": {
    "name": "ipython",
    "version": 3
   },
   "file_extension": ".py",
   "mimetype": "text/x-python",
   "name": "python",
   "nbconvert_exporter": "python",
   "pygments_lexer": "ipython3",
   "version": "3.7.12"
  },
  "orig_nbformat": 4,
  "vscode": {
   "interpreter": {
    "hash": "68b63e5a6e21a3ec322dfbbdb8e309c644513e68d67e5f42fa54fdf3b129e981"
   }
  }
 },
 "nbformat": 4,
 "nbformat_minor": 2
}
