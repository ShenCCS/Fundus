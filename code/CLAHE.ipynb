{
 "cells": [
  {
   "cell_type": "markdown",
   "metadata": {},
   "source": [
    "# CLAHE"
   ]
  },
  {
   "cell_type": "code",
   "execution_count": 1,
   "metadata": {},
   "outputs": [],
   "source": [
    "import cv2"
   ]
  },
  {
   "cell_type": "code",
   "execution_count": 4,
   "metadata": {},
   "outputs": [
    {
     "data": {
      "text/plain": [
       "True"
      ]
     },
     "execution_count": 4,
     "metadata": {},
     "output_type": "execute_result"
    }
   ],
   "source": [
    "#9875190-02-R-20150728\n",
    "image = cv2.imread('LLLLLLLLLL.jpg')\n",
    "\n",
    "lab_image = cv2.cvtColor(image, cv2.COLOR_BGR2LAB)\n",
    "\n",
    "# 3 channel split\n",
    "l_channel, a_channel, b_channel = cv2.split(lab_image)\n",
    "\n",
    "# Create CLAHE object\n",
    "clahe = cv2.createCLAHE(clipLimit=2.0, tileGridSize=(8, 8))\n",
    "\n",
    "# More light \n",
    "enhanced_l_channel = clahe.apply(l_channel)\n",
    "\n",
    "# Merge\n",
    "enhanced_lab_image = cv2.merge((enhanced_l_channel, a_channel, b_channel))\n",
    "\n",
    "# Turn back\n",
    "enhanced_image = cv2.cvtColor(enhanced_lab_image, cv2.COLOR_LAB2BGR)\n",
    "\n",
    "cv2.imshow('Enhanced Image', enhanced_image)\n",
    "cv2.waitKey(0)\n",
    "cv2.destroyAllWindows()\n",
    "cv2.imwrite('enhanced_image_LLLLLLLLLL.jpg', enhanced_image)"
   ]
  },
  {
   "cell_type": "code",
   "execution_count": null,
   "metadata": {},
   "outputs": [],
   "source": []
  }
 ],
 "metadata": {
  "kernelspec": {
   "display_name": "Python 3.7.12 ('GAN')",
   "language": "python",
   "name": "python3"
  },
  "language_info": {
   "codemirror_mode": {
    "name": "ipython",
    "version": 3
   },
   "file_extension": ".py",
   "mimetype": "text/x-python",
   "name": "python",
   "nbconvert_exporter": "python",
   "pygments_lexer": "ipython3",
   "version": "3.7.12"
  },
  "orig_nbformat": 4,
  "vscode": {
   "interpreter": {
    "hash": "68b63e5a6e21a3ec322dfbbdb8e309c644513e68d67e5f42fa54fdf3b129e981"
   }
  }
 },
 "nbformat": 4,
 "nbformat_minor": 2
}
