{
 "cells": [
  {
   "cell_type": "code",
   "execution_count": 1,
   "metadata": {},
   "outputs": [],
   "source": [
    "import pandas as pd\n",
    "import os\n",
    "import warnings\n",
    "warnings.filterwarnings(\"ignore\")"
   ]
  },
  {
   "cell_type": "code",
   "execution_count": 2,
   "metadata": {},
   "outputs": [],
   "source": [
    "dataset = pd.read_csv(\"/home/john/network/Fundus/project/dataset/patient.csv\")\n",
    "Fundus_File = \"/home/john/network/Fundus/project/Done/\""
   ]
  },
  {
   "cell_type": "markdown",
   "metadata": {},
   "source": [
    "# Search file name"
   ]
  },
  {
   "cell_type": "code",
   "execution_count": null,
   "metadata": {},
   "outputs": [],
   "source": [
    "file_list = os.listdir(Fundus_File)\n",
    "new_dataframe = pd.DataFrame(columns=dataset.columns)\n",
    "\n",
    "for filename in file_list:\n",
    "    start = 13\n",
    "\n",
    "    for i in range(start,len(filename)):\n",
    "        if filename[i] == '-':\n",
    "            found = True\n",
    "            break\n",
    "    \n",
    "    if found:\n",
    "        match = False\n",
    "\n",
    "        for j in range(0, len(dataset['病歷號'])):\n",
    "            if filename[start:i] == str(dataset['病歷號'][j]):\n",
    "                new_row = dataset.iloc[j]\n",
    "                new_dataframe = new_dataframe.append(new_row,ignore_index = True)\n",
    "                match = True\n",
    "                \n",
    "        if not match:\n",
    "                    print(f\"Not found : {filename[start:i]}\")\n",
    "\n",
    "new_dataframe.to_csv(\"../dataset/SelectPatientOutcome.csv\",index = False)      "
   ]
  },
  {
   "cell_type": "markdown",
   "metadata": {},
   "source": [
    "# Color"
   ]
  },
  {
   "cell_type": "code",
   "execution_count": 2,
   "metadata": {},
   "outputs": [],
   "source": [
    "dataset = pd.read_csv(\"/home/john/network/Fundus/model/patient.csv\")\n",
    "\n",
    "# num = 374\n",
    "Fundus_File = \"/home/john/network/Fundus/model/Color/dataset(select)/\"\n",
    "\n",
    "# num = 352\n",
    "Fundus_File = \"/home/john/network/Fundus/model/Color/dataset(CLAHE)/\""
   ]
  },
  {
   "cell_type": "code",
   "execution_count": 4,
   "metadata": {},
   "outputs": [],
   "source": [
    "file_list = os.listdir(Fundus_File)\n",
    "new_dataframe = pd.DataFrame(columns=dataset.columns)\n",
    "\n",
    "for filename in file_list:\n",
    "    # start = 4   # 374\n",
    "    start = 10\n",
    "\n",
    "    for i in range(start,len(filename)):\n",
    "        if filename[i] == '-':\n",
    "            found = True\n",
    "            break\n",
    "    \n",
    "    if found:\n",
    "        match = False\n",
    "\n",
    "        for j in range(0, len(dataset['病歷號'])):\n",
    "            if filename[start:i] == str(dataset['病歷號'][j]):\n",
    "                new_row = dataset.iloc[j]\n",
    "                new_dataframe = new_dataframe.append(new_row,ignore_index = True)\n",
    "                match = True\n",
    "                \n",
    "        if not match:\n",
    "                    print(f\"Not found : {filename[start:i]}\")\n",
    "\n",
    "# new_dataframe.to_csv(\"/home/john/network/Fundus/model/csv/SelectPatientOutcome_374.csv\",index = False)      \n",
    "new_dataframe.to_csv(\"/home/john/network/Fundus/model/csv/SelectPatientOutcome_352.csv\",index = False)      "
   ]
  },
  {
   "cell_type": "markdown",
   "metadata": {},
   "source": [
    "# Blood"
   ]
  },
  {
   "cell_type": "code",
   "execution_count": 3,
   "metadata": {},
   "outputs": [],
   "source": [
    "dataset = pd.read_csv(\"/home/john/network/Fundus/project/dataset/patient.csv\")\n",
    "Fundus_File = \"/home/john/network/Fundus/model/785_Blood/\""
   ]
  },
  {
   "cell_type": "code",
   "execution_count": 7,
   "metadata": {},
   "outputs": [
    {
     "name": "stdout",
     "output_type": "stream",
     "text": [
      "Not found : 4148235\n",
      "Not found : 7096981\n",
      "Not found : 4148235\n",
      "Not found : 4075159\n",
      "Not found : 4148235\n",
      "Not found : 4148235\n",
      "Not found : 4148235\n",
      "Not found : 4148235\n"
     ]
    }
   ],
   "source": [
    "file_list = os.listdir(Fundus_File)\n",
    "new_dataframe = pd.DataFrame(columns=dataset.columns)\n",
    "\n",
    "for filename in file_list:\n",
    "    start = 14\n",
    "\n",
    "    for i in range(start,len(filename)):\n",
    "        if filename[i] == '-':\n",
    "            found = True\n",
    "            break\n",
    "    \n",
    "    if found:\n",
    "        match = False\n",
    "\n",
    "        for j in range(0, len(dataset['病歷號'])):\n",
    "            if filename[start:i] == str(dataset['病歷號'][j]):\n",
    "                new_row = dataset.iloc[j]\n",
    "                new_dataframe = new_dataframe.append(new_row,ignore_index = True)\n",
    "                match = True\n",
    "                \n",
    "        if not match:\n",
    "                    print(f\"Not found : {filename[start:i]}\")\n",
    "\n",
    "new_dataframe.to_csv(\"../dataset/SelectPatientOutcome(Blood).csv\",index = False)      "
   ]
  },
  {
   "cell_type": "code",
   "execution_count": null,
   "metadata": {},
   "outputs": [],
   "source": []
  }
 ],
 "metadata": {
  "kernelspec": {
   "display_name": "Python 3.9.0 ('gpu')",
   "language": "python",
   "name": "python3"
  },
  "language_info": {
   "codemirror_mode": {
    "name": "ipython",
    "version": 3
   },
   "file_extension": ".py",
   "mimetype": "text/x-python",
   "name": "python",
   "nbconvert_exporter": "python",
   "pygments_lexer": "ipython3",
   "version": "3.9.0"
  },
  "orig_nbformat": 4,
  "vscode": {
   "interpreter": {
    "hash": "c552620d222fa9d606f1f33f8563cdc33bfd942962e64ac4e17319b8faf72790"
   }
  }
 },
 "nbformat": 4,
 "nbformat_minor": 2
}
